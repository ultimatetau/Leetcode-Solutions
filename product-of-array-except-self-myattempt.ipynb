{
 "cells": [
  {
   "cell_type": "code",
   "execution_count": 48,
   "metadata": {},
   "outputs": [],
   "source": [
    "class Solution(object):\n",
    "    def productExceptSelf(self, nums):\n",
    "        rl = nums[:]\n",
    "        factor = 1\n",
    "        check = 0\n",
    "        j=tuple\n",
    "        for y,x in enumerate(nums):\n",
    "            if x == 0:\n",
    "                j = (y,x)\n",
    "                check+=1\n",
    "            else:\n",
    "                factor = factor*x\n",
    "        \n",
    "        for y,x in enumerate(nums):\n",
    "            if check >1:\n",
    "                rl[y] = 0\n",
    "            elif isinstance(j,tuple):\n",
    "                rl[y] = 0\n",
    "                rl[j[0]] = factor\n",
    "            else:\n",
    "                rl[y] = int(nums[y]**-1*factor)\n",
    "        return rl"
   ]
  },
  {
   "cell_type": "code",
   "execution_count": null,
   "metadata": {},
   "outputs": [],
   "source": []
  }
 ],
 "metadata": {
  "kernelspec": {
   "display_name": "venv",
   "language": "python",
   "name": "python3"
  },
  "language_info": {
   "codemirror_mode": {
    "name": "ipython",
    "version": 3
   },
   "file_extension": ".py",
   "mimetype": "text/x-python",
   "name": "python",
   "nbconvert_exporter": "python",
   "pygments_lexer": "ipython3",
   "version": "3.10.5"
  }
 },
 "nbformat": 4,
 "nbformat_minor": 2
}
