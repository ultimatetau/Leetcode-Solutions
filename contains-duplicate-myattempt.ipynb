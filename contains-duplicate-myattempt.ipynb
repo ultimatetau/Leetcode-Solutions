{
 "cells": [
  {
   "cell_type": "code",
   "execution_count": 98,
   "metadata": {},
   "outputs": [],
   "source": [
    "class Solution:\n",
    "    def containsDuplicate(self, nums: list[int]) -> bool:\n",
    "        return (sorted(list(set(nums)))!=list(sorted(nums)))\n",
    "    def containsDuplicate2(self, nums: list[int]) -> bool:\n",
    "            if len(nums) != len(set(nums)):\n",
    "                return True    \n",
    "            else: \n",
    "                return False            "
   ]
  },
  {
   "cell_type": "code",
   "execution_count": 99,
   "metadata": {},
   "outputs": [
    {
     "name": "stdout",
     "output_type": "stream",
     "text": [
      "False\n"
     ]
    }
   ],
   "source": [
    "nums2=[1,2,3,4]\n",
    "nums1 = [2,14,18,22,22]\n",
    "nums3=[1,2,3,1]\n",
    "nums4 = [3,1]\n",
    "s = Solution()\n",
    "print(s.containsDuplicate2(nums2))"
   ]
  },
  {
   "cell_type": "code",
   "execution_count": null,
   "metadata": {},
   "outputs": [],
   "source": []
  }
 ],
 "metadata": {
  "kernelspec": {
   "display_name": "Python 3",
   "language": "python",
   "name": "python3"
  },
  "language_info": {
   "codemirror_mode": {
    "name": "ipython",
    "version": 3
   },
   "file_extension": ".py",
   "mimetype": "text/x-python",
   "name": "python",
   "nbconvert_exporter": "python",
   "pygments_lexer": "ipython3",
   "version": "3.10.6"
  }
 },
 "nbformat": 4,
 "nbformat_minor": 2
}
